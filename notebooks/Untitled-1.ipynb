{
 "cells": [
  {
   "cell_type": "code",
   "execution_count": 3,
   "id": "3019d789",
   "metadata": {},
   "outputs": [
    {
     "name": "stdout",
     "output_type": "stream",
     "text": [
      "            Disease   Symptom_1              Symptom_2              Symptom_3  \\\n",
      "0  Fungal infection     itching              skin_rash   nodal_skin_eruptions   \n",
      "1  Fungal infection   skin_rash   nodal_skin_eruptions    dischromic _patches   \n",
      "2  Fungal infection     itching   nodal_skin_eruptions    dischromic _patches   \n",
      "3  Fungal infection     itching              skin_rash    dischromic _patches   \n",
      "4  Fungal infection     itching              skin_rash   nodal_skin_eruptions   \n",
      "\n",
      "              Symptom_4 Symptom_5 Symptom_6 Symptom_7 Symptom_8 Symptom_9  \\\n",
      "0   dischromic _patches       NaN       NaN       NaN       NaN       NaN   \n",
      "1                   NaN       NaN       NaN       NaN       NaN       NaN   \n",
      "2                   NaN       NaN       NaN       NaN       NaN       NaN   \n",
      "3                   NaN       NaN       NaN       NaN       NaN       NaN   \n",
      "4                   NaN       NaN       NaN       NaN       NaN       NaN   \n",
      "\n",
      "  Symptom_10 Symptom_11 Symptom_12 Symptom_13 Symptom_14 Symptom_15  \\\n",
      "0        NaN        NaN        NaN        NaN        NaN        NaN   \n",
      "1        NaN        NaN        NaN        NaN        NaN        NaN   \n",
      "2        NaN        NaN        NaN        NaN        NaN        NaN   \n",
      "3        NaN        NaN        NaN        NaN        NaN        NaN   \n",
      "4        NaN        NaN        NaN        NaN        NaN        NaN   \n",
      "\n",
      "  Symptom_16 Symptom_17  \n",
      "0        NaN        NaN  \n",
      "1        NaN        NaN  \n",
      "2        NaN        NaN  \n",
      "3        NaN        NaN  \n",
      "4        NaN        NaN  \n"
     ]
    }
   ],
   "source": [
    "import pandas as pd\n",
    "\n",
    "# Load main dataset mapping symptoms → disease\n",
    "df = pd.read_csv(r\"../data/dataset.csv\")\n",
    "print(df.head())"
   ]
  },
  {
   "cell_type": "code",
   "execution_count": 4,
   "id": "38404da6",
   "metadata": {},
   "outputs": [
    {
     "name": "stdout",
     "output_type": "stream",
     "text": [
      "          Disease                                        Description\n",
      "0   Drug Reaction  An adverse drug reaction (ADR) is an injury ca...\n",
      "1         Malaria  An infectious disease caused by protozoan para...\n",
      "2         Allergy  An allergy is an immune system response to a f...\n",
      "3  Hypothyroidism  Hypothyroidism, also called underactive thyroi...\n",
      "4       Psoriasis  Psoriasis is a common skin disorder that forms...\n"
     ]
    }
   ],
   "source": [
    "\n",
    "# Load symptom descriptions\n",
    "desc_df = pd.read_csv(r\"../data/symptom_Description.csv\")\n",
    "print(desc_df.head())"
   ]
  },
  {
   "cell_type": "code",
   "execution_count": 5,
   "id": "2964172e",
   "metadata": {},
   "outputs": [
    {
     "name": "stdout",
     "output_type": "stream",
     "text": [
      "          Disease                      Precaution_1  \\\n",
      "0   Drug Reaction                   stop irritation   \n",
      "1         Malaria          Consult nearest hospital   \n",
      "2         Allergy                    apply calamine   \n",
      "3  Hypothyroidism                     reduce stress   \n",
      "4       Psoriasis  wash hands with warm soapy water   \n",
      "\n",
      "                   Precaution_2        Precaution_3  \\\n",
      "0      consult nearest hospital    stop taking drug   \n",
      "1               avoid oily food  avoid non veg food   \n",
      "2       cover area with bandage                 NaN   \n",
      "3                      exercise         eat healthy   \n",
      "4  stop bleeding using pressure      consult doctor   \n",
      "\n",
      "                  Precaution_4  \n",
      "0                    follow up  \n",
      "1           keep mosquitos out  \n",
      "2  use ice to compress itching  \n",
      "3             get proper sleep  \n",
      "4                   salt baths  \n"
     ]
    }
   ],
   "source": [
    "\n",
    "# Load precautions\n",
    "precaution_df = pd.read_csv(r\"../data/symptom_precaution.csv\")\n",
    "print(precaution_df.head())\n"
   ]
  },
  {
   "cell_type": "code",
   "execution_count": 6,
   "id": "4522a0bc",
   "metadata": {},
   "outputs": [
    {
     "name": "stdout",
     "output_type": "stream",
     "text": [
      "                Symptom  weight\n",
      "0               itching       1\n",
      "1             skin_rash       3\n",
      "2  nodal_skin_eruptions       4\n",
      "3   continuous_sneezing       4\n",
      "4             shivering       5\n"
     ]
    }
   ],
   "source": [
    "# Load symptom severity (optional)\n",
    "severity_df = pd.read_csv(r\"../data/Symptom-severity.csv\")\n",
    "print(severity_df.head())"
   ]
  },
  {
   "cell_type": "code",
   "execution_count": 7,
   "id": "3f7345e7",
   "metadata": {},
   "outputs": [],
   "source": [
    "# Fill missing symptoms\n",
    "symptom_cols = [col for col in df.columns if col.startswith('Symptom')]\n",
    "df[symptom_cols] = df[symptom_cols].fillna('None')"
   ]
  },
  {
   "cell_type": "code",
   "execution_count": 8,
   "id": "231fc68e",
   "metadata": {},
   "outputs": [],
   "source": [
    "# Combine symptoms into lists\n",
    "df['Symptom_List'] = df[symptom_cols].apply(lambda row: [s.strip() for s in row if s != 'None'], axis=1)\n"
   ]
  },
  {
   "cell_type": "code",
   "execution_count": 9,
   "id": "601b2310",
   "metadata": {},
   "outputs": [
    {
     "name": "stdout",
     "output_type": "stream",
     "text": [
      "Unique symptoms found: 131\n"
     ]
    }
   ],
   "source": [
    "# Build symptom vocabulary\n",
    "all_symptoms = sorted(set(s for symptoms in df['Symptom_List'] for s in symptoms))\n",
    "print(f\"Unique symptoms found: {len(all_symptoms)}\")"
   ]
  },
  {
   "cell_type": "code",
   "execution_count": 10,
   "id": "92e49cf0",
   "metadata": {},
   "outputs": [],
   "source": [
    "# Encode each sample as binary vector\n",
    "import numpy as np\n",
    "X = []\n",
    "for symptoms in df['Symptom_List']:\n",
    "    binary = [1 if s in symptoms else 0 for s in all_symptoms]\n",
    "    X.append(binary)\n",
    "X = np.array(X)\n",
    "y = df['Disease']"
   ]
  },
  {
   "cell_type": "code",
   "execution_count": 11,
   "id": "56b8c82f",
   "metadata": {},
   "outputs": [
    {
     "name": "stdout",
     "output_type": "stream",
     "text": [
      "Accuracy: 1.0\n"
     ]
    }
   ],
   "source": [
    "from sklearn.ensemble import RandomForestClassifier\n",
    "from sklearn.model_selection import train_test_split\n",
    "from sklearn.metrics import accuracy_score\n",
    "\n",
    "X_train, X_test, y_train, y_test = train_test_split(X, y, test_size=0.3, random_state=84)\n",
    "model = RandomForestClassifier()\n",
    "model.fit(X_train, y_train)\n",
    "\n",
    "y_pred = model.predict(X_test)\n",
    "print(\"Accuracy:\", accuracy_score(y_test, y_pred))"
   ]
  },
  {
   "cell_type": "code",
   "execution_count": 12,
   "id": "2bdf450c",
   "metadata": {},
   "outputs": [
    {
     "data": {
      "text/plain": [
       "['../symptoms_list.pkl']"
      ]
     },
     "execution_count": 12,
     "metadata": {},
     "output_type": "execute_result"
    }
   ],
   "source": [
    "import joblib\n",
    "\n",
    "joblib.dump(model, \"../model.pkl\")\n",
    "joblib.dump(all_symptoms, \"../symptoms_list.pkl\")\n"
   ]
  },
  {
   "cell_type": "code",
   "execution_count": null,
   "id": "a5e88597",
   "metadata": {},
   "outputs": [
    {
     "ename": "",
     "evalue": "",
     "output_type": "error",
     "traceback": [
      "\u001b[1;31mThe Kernel crashed while executing code in the current cell or a previous cell. \n",
      "\u001b[1;31mPlease review the code in the cell(s) to identify a possible cause of the failure. \n",
      "\u001b[1;31mClick <a href='https://aka.ms/vscodeJupyterKernelCrash'>here</a> for more info. \n",
      "\u001b[1;31mView Jupyter <a href='command:jupyter.viewOutput'>log</a> for further details."
     ]
    }
   ],
   "source": []
  },
  {
   "cell_type": "code",
   "execution_count": null,
   "id": "15b77347",
   "metadata": {},
   "outputs": [],
   "source": []
  }
 ],
 "metadata": {
  "kernelspec": {
   "display_name": "Python 3.10 (Recommended)",
   "language": "python",
   "name": "py310"
  },
  "language_info": {
   "codemirror_mode": {
    "name": "ipython",
    "version": 3
   },
   "file_extension": ".py",
   "mimetype": "text/x-python",
   "name": "python",
   "nbconvert_exporter": "python",
   "pygments_lexer": "ipython3",
   "version": "3.10.11"
  }
 },
 "nbformat": 4,
 "nbformat_minor": 5
}
